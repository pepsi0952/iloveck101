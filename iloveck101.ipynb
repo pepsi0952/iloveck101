{
 "cells": [
  {
   "cell_type": "code",
   "execution_count": 136,
   "metadata": {
    "collapsed": false
   },
   "outputs": [
    {
     "name": "stdout",
     "output_type": "stream",
     "text": [
      "<Response [200]>\n"
     ]
    }
   ],
   "source": [
    "import requests\n",
    "from bs4 import BeautifulSoup as bs\n",
    "headers = {'User-Agent':'Mozilla/5.0 (Windows NT 6.1; WOW64) AppleWebKit/537.36 (KHTML, like Gecko) Chrome/44.0.2403.262 Safari/537.36'}\n",
    "\n",
    "#請在這裡輸入正妹抱抱的網址\n",
    "res = requests.get('http://ck101.com/forum-1345-1.html?ref=nav',headers = headers)\n",
    "#print res\n",
    "soup = bs(res.text)\n",
    "#在資料夾存一個正妹抱抱的期別連結\n",
    "f =  open('ck101.txt','w')\n",
    "for link in soup.select('h3'):\n",
    "    for a in link.select('a'):\n",
    "        f.write(a.attrs['href']+'\\n')\n",
    "f.close()        "
   ]
  },
  {
   "cell_type": "code",
   "execution_count": 159,
   "metadata": {
    "collapsed": false
   },
   "outputs": [
    {
     "name": "stdout",
     "output_type": "stream",
     "text": [
      "<Response [200]>\n",
      "<Response [200]>\n",
      "<Response [200]>\n",
      "<Response [200]>\n",
      "<Response [200]>\n",
      "<Response [200]>\n",
      "<Response [200]>\n",
      "<Response [200]>\n",
      "<Response [200]>\n",
      "<Response [200]>\n",
      "<Response [200]>\n",
      "<Response [200]>\n",
      "<Response [200]>\n",
      "<Response [200]>\n",
      "<Response [200]>\n",
      "<Response [200]>\n",
      "<Response [200]>\n",
      "<Response [200]>\n",
      "<Response [200]>\n",
      "<Response [200]>\n"
     ]
    }
   ],
   "source": [
    "import requests\n",
    "from bs4 import BeautifulSoup as bs\n",
    "import shutil\n",
    "import os\n",
    "#\n",
    "f = open('ck101.txt','r')\n",
    "headers = {'User-Agent':'Mozilla/5.0 (Windows NT 6.1; WOW64) AppleWebKit/537.36 (KHTML, like Gecko) Chrome/44.0.2403.262 Safari/537.36'}\n",
    "\n",
    "for line in f:\n",
    "    url = line\n",
    "    res = requests.get(url,headers = headers)\n",
    "    print res\n",
    "    soup = bs(res.text)\n",
    "    for title in soup.select('h1'):\n",
    "        dirname = title.text\n",
    "        if os.path.isdir(dirname)==False:\n",
    "            os.mkdir(dirname)    \n",
    "            for entry in soup.select('.t_f'):\n",
    "                url_format = '1'\n",
    "                for link in entry.select('a')[0:-2]:\n",
    "                    url_next = link.attrs['href']\n",
    "                    if url_next != url_format:\n",
    "                        url_format = url_next\n",
    "                        print url_next\n",
    "                        res2 = requests.get(url_next,headers = headers) \n",
    "                        soup2 = bs(res2.text)\n",
    "                        for link in soup2.select('.t_f'):\n",
    "                            for em in link.select('img')[2:]:\n",
    "                                try:\n",
    "                                    fname = em.get('file').split('/')[-1]  \n",
    "                                    extension = fname.split('.')[1]\n",
    "                                except:\n",
    "                                    break\n",
    "                                try:\n",
    "                                    if 'jpg' in em.get('file'):\n",
    "                                        print fname\n",
    "                                        response = requests.get(em.get('file'), headers = headers, stream=True)\n",
    "                                        with open(dirname+ '/' +fname, 'wb') as out_file:\n",
    "                                            shutil.copyfileobj(response.raw, out_file)\n",
    "                                        del response\n",
    "                                except:\n",
    "                                    break\n",
    "        else:\n",
    "            break"
   ]
  }
 ],
 "metadata": {
  "kernelspec": {
   "display_name": "Python 2",
   "language": "python",
   "name": "python2"
  },
  "language_info": {
   "codemirror_mode": {
    "name": "ipython",
    "version": 2
   },
   "file_extension": ".py",
   "mimetype": "text/x-python",
   "name": "python",
   "nbconvert_exporter": "python",
   "pygments_lexer": "ipython2",
   "version": "2.7.10"
  }
 },
 "nbformat": 4,
 "nbformat_minor": 0
}
